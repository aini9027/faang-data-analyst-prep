{
  "nbformat": 4,
  "nbformat_minor": 0,
  "metadata": {
    "colab": {
      "provenance": [],
      "toc_visible": true,
      "authorship_tag": "ABX9TyNDjQUFaO3L4J9Cvevt3dk1",
      "include_colab_link": true
    },
    "kernelspec": {
      "name": "python3",
      "display_name": "Python 3"
    },
    "language_info": {
      "name": "python"
    }
  },
  "cells": [
    {
      "cell_type": "markdown",
      "metadata": {
        "id": "view-in-github",
        "colab_type": "text"
      },
      "source": [
        "<a href=\"https://colab.research.google.com/github/aini9027/faang-data-analyst-prep/blob/main/week-1-python-sql-basics/python_basics.ipynb\" target=\"_parent\"><img src=\"https://colab.research.google.com/assets/colab-badge.svg\" alt=\"Open In Colab\"/></a>"
      ]
    },
    {
      "cell_type": "code",
      "execution_count": 1,
      "metadata": {
        "colab": {
          "base_uri": "https://localhost:8080/"
        },
        "id": "Bn4Cbe8w2h3g",
        "outputId": "d4c9978d-341c-4073-ad02-38f759718112"
      },
      "outputs": [
        {
          "output_type": "stream",
          "name": "stdout",
          "text": [
            "Hello, Data Analyst!\n",
            "Alice 25 5.6 True\n",
            "You are an adult.\n",
            "Count: 0\n",
            "Count: 1\n",
            "Count: 2\n",
            "Count: 3\n",
            "Count: 4\n",
            "While count: 0\n",
            "While count: 1\n",
            "While count: 2\n",
            "Facebook\n",
            "Google\n",
            "['Amazon', 'Apple', 'Netflix']\n",
            "Alice is 30 years old and lives in New York.\n",
            "Alice is 30 years old and lives in New York.\n",
            "{'name': 'Alice', 'age': 30, 'city': 'New York', 'membership': 'Gold'}\n"
          ]
        }
      ],
      "source": [
        "# Week 1 – Day 1: Python Basics\n",
        "\n",
        "# 1. Print and Comments\n",
        "print(\"Hello, Data Analyst!\")\n",
        "\n",
        "# 2. Variables and Types\n",
        "name = \"Alice\"\n",
        "age = 25\n",
        "height = 5.6\n",
        "is_student = True\n",
        "print(name, age, height, is_student)\n",
        "\n",
        "# 3. Input (optional; use if running interactively)\n",
        "# user_age = input(\"Enter your age: \")\n",
        "# print(\"You entered:\", user_age)\n",
        "\n",
        "# 4. If‑Else Example\n",
        "if age >= 18:\n",
        "    print(\"You are an adult.\")\n",
        "else:\n",
        "    print(\"You are a minor.\")\n",
        "\n",
        "# 5. For‑Loop Example\n",
        "for i in range(5):\n",
        "    print(\"Count:\", i)\n",
        "\n",
        "# 6. While‑Loop Example\n",
        "count = 0\n",
        "while count < 3:\n",
        "    print(\"While count:\", count)\n",
        "    count += 1\n",
        "\n",
        "# 1. List of FAANG companies\n",
        "faang = [\"Facebook\", \"Amazon\", \"Apple\", \"Netflix\", \"Google\"]\n",
        "print(faang[0])     # First\n",
        "print(faang[-1])    # Last\n",
        "print(faang[1:4])   # Middle items\n",
        "\n",
        "# 2. Dictionary: customer details\n",
        "customer = {\n",
        "    \"name\": \"Alice\",\n",
        "    \"age\": 30,\n",
        "    \"city\": \"New York\"\n",
        "}\n",
        "\n",
        "# Print using f-string\n",
        "print(f\"{customer['name']} is {customer['age']} years old and lives in {customer['city']}.\")\n",
        "\n",
        "# Print using .format()\n",
        "print(\"{} is {} years old and lives in {}.\".format(customer[\"name\"], customer[\"age\"], customer[\"city\"]))\n",
        "\n",
        "# Add new key\n",
        "customer[\"membership\"] = \"Gold\"\n",
        "print(customer)\n"
      ]
    }
  ]
}