{
 "cells": [
  {
   "cell_type": "markdown",
   "id": "585e6f29",
   "metadata": {},
   "source": [
    "\n",
    "# LeetCode SQL - Problem Title Here\n",
    "### Author: Your Name\n",
    "### Date: YYYY-MM-DD\n",
    "\n",
    "---\n",
    "\n",
    "## Problem Description\n",
    "(Add problem statement here)\n"
   ]
  },
  {
   "cell_type": "markdown",
   "id": "5242b53c",
   "metadata": {},
   "source": [
    "\n",
    "## Approach (SQL)\n",
    "1. Explain how you would solve the problem using SQL step by step.\n",
    "2. Mention any joins, group by, filters, etc.\n",
    "\n",
    "### SQL Solution\n",
    "```sql\n",
    "-- Write your SQL query here\n",
    "```\n"
   ]
  },
  {
   "cell_type": "markdown",
   "id": "b9727100",
   "metadata": {},
   "source": [
    "\n",
    "## Approach (Pandas)\n",
    "1. Explain how to solve using Pandas.\n",
    "2. Mention merges, groupbys, filtering logic.\n",
    "\n",
    "### Pandas Solution\n"
   ]
  },
  {
   "cell_type": "code",
   "execution_count": null,
   "id": "5f8e3649",
   "metadata": {},
   "outputs": [],
   "source": [
    "\n",
    "import pandas as pd\n",
    "\n",
    "# Example placeholder data\n",
    "# Replace with actual problem data\n",
    "table1 = pd.DataFrame({\n",
    "    # Columns here\n",
    "})\n",
    "\n",
    "table2 = pd.DataFrame({\n",
    "    # Columns here\n",
    "})\n",
    "\n",
    "# Perform required operations\n",
    "# Example: merged = table1.merge(table2, on='key', how='left')\n",
    "# result = merged[...]\n",
    "\n",
    "result\n"
   ]
  },
  {
   "cell_type": "markdown",
   "id": "7e49bee2",
   "metadata": {},
   "source": [
    "\n",
    "## Key Learnings\n",
    "- Write what SQL concept you practiced (e.g., joins, group by, window functions)\n",
    "- Write what Pandas concept you practiced (e.g., merge, groupby, filtering)\n"
   ]
  }
 ],
 "metadata": {},
 "nbformat": 4,
 "nbformat_minor": 5
}
