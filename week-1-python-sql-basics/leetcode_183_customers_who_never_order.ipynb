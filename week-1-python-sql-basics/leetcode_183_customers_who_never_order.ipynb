{
 "cells": [
  {
   "cell_type": "markdown",
   "id": "9b455ccc",
   "metadata": {},
   "source": [
    "\n",
    "# LeetCode SQL #183 - Customers Who Never Order\n",
    "### Author: Your Name\n",
    "### Date: 2025-07-23\n",
    "\n",
    "---\n",
    "\n",
    "## Problem Description\n",
    "We are given two tables:\n",
    "1. **Customers**\n",
    "    - `id`: unique customer ID\n",
    "    - `name`: name of the customer\n",
    "2. **Orders**\n",
    "    - `id`: unique order ID\n",
    "    - `customerId`: references `Customers.id` (customer who placed the order)\n",
    "\n",
    "### Task:\n",
    "Find all customers who **never placed an order**.\n"
   ]
  },
  {
   "cell_type": "markdown",
   "id": "b0abfa0f",
   "metadata": {},
   "source": [
    "\n",
    "## Approach (SQL)\n",
    "1. **LEFT JOIN** `Customers` with `Orders` on customer ID.\n",
    "2. Keep all rows from `Customers`, but match `Orders` if available.\n",
    "3. Filter out customers who have no match in `Orders` (order columns will be NULL).\n",
    "4. Select only customer names.\n",
    "\n",
    "### SQL Solution\n",
    "```sql\n",
    "SELECT c.name AS Customers\n",
    "FROM Customers AS c\n",
    "LEFT JOIN Orders AS o\n",
    "    ON c.id = o.customerId\n",
    "WHERE o.customerId IS NULL;\n",
    "```\n",
    "\n",
    "### Alternative SQL Solution\n",
    "```sql\n",
    "SELECT name AS Customers\n",
    "FROM Customers\n",
    "WHERE id NOT IN (SELECT customerId FROM Orders);\n",
    "```\n"
   ]
  },
  {
   "cell_type": "markdown",
   "id": "5d1d5453",
   "metadata": {},
   "source": [
    "\n",
    "## Approach (Pandas)\n",
    "- Load data into Pandas DataFrames.\n",
    "- Perform a left join (`merge` in Pandas).\n",
    "- Identify rows where `customerId` is missing (`isna()`).\n",
    "- Output only customer names.\n"
   ]
  },
  {
   "cell_type": "code",
   "execution_count": null,
   "id": "38bbd65d",
   "metadata": {},
   "outputs": [],
   "source": [
    "\n",
    "import pandas as pd\n",
    "\n",
    "# Sample Data\n",
    "customers = pd.DataFrame({\n",
    "    'id': [1, 2, 3, 4],\n",
    "    'name': ['Joe', 'Henry', 'Sam', 'Max']\n",
    "})\n",
    "\n",
    "orders = pd.DataFrame({\n",
    "    'id': [1, 2],\n",
    "    'customerId': [3, 1]\n",
    "})\n",
    "\n",
    "# LEFT JOIN equivalent\n",
    "merged = customers.merge(orders, left_on='id', right_on='customerId', how='left')\n",
    "\n",
    "# Filter customers with no orders\n",
    "no_orders = merged[merged['customerId'].isna()]\n",
    "\n",
    "# Select only customer names\n",
    "result = no_orders[['name']].rename(columns={'name': 'Customers'})\n",
    "result\n"
   ]
  },
  {
   "cell_type": "markdown",
   "id": "1a7c661e",
   "metadata": {},
   "source": [
    "\n",
    "## Key Learnings\n",
    "- **SQL**\n",
    "  - `LEFT JOIN` is used to keep all records from one table even if there’s no match in another.\n",
    "  - Use `IS NULL` to filter non-matching rows.\n",
    "- **Pandas**\n",
    "  - `merge(..., how='left')` is the Pandas equivalent of SQL LEFT JOIN.\n",
    "  - `isna()` finds missing values in Pandas DataFrames.\n"
   ]
  }
 ],
 "metadata": {},
 "nbformat": 4,
 "nbformat_minor": 5
}
