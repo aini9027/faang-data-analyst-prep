{
  "nbformat": 4,
  "nbformat_minor": 0,
  "metadata": {
    "colab": {
      "provenance": [],
      "toc_visible": true,
      "authorship_tag": "ABX9TyORuez3FLdHSWvxiwBCaZhL",
      "include_colab_link": true
    },
    "kernelspec": {
      "name": "python3",
      "display_name": "Python 3"
    },
    "language_info": {
      "name": "python"
    }
  },
  "cells": [
    {
      "cell_type": "markdown",
      "metadata": {
        "id": "view-in-github",
        "colab_type": "text"
      },
      "source": [
        "<a href=\"https://colab.research.google.com/github/aini9027/faang-data-analyst-prep/blob/main/python_basics.ipynb\" target=\"_parent\"><img src=\"https://colab.research.google.com/assets/colab-badge.svg\" alt=\"Open In Colab\"/></a>"
      ]
    },
    {
      "cell_type": "code",
      "execution_count": 1,
      "metadata": {
        "colab": {
          "base_uri": "https://localhost:8080/"
        },
        "id": "Bn4Cbe8w2h3g",
        "outputId": "280bf38c-f652-4dc1-a5c9-7f9d52ba96e9"
      },
      "outputs": [
        {
          "output_type": "stream",
          "name": "stdout",
          "text": [
            "Hello, Data Analyst!\n",
            "Alice 25 5.6 True\n",
            "You are an adult.\n",
            "Count: 0\n",
            "Count: 1\n",
            "Count: 2\n",
            "Count: 3\n",
            "Count: 4\n",
            "While count: 0\n",
            "While count: 1\n",
            "While count: 2\n"
          ]
        }
      ],
      "source": [
        "# Week 1 – Day 1: Python Basics\n",
        "\n",
        "# 1. Print and Comments\n",
        "print(\"Hello, Data Analyst!\")\n",
        "\n",
        "# 2. Variables and Types\n",
        "name = \"Alice\"\n",
        "age = 25\n",
        "height = 5.6\n",
        "is_student = True\n",
        "print(name, age, height, is_student)\n",
        "\n",
        "# 3. Input (optional; use if running interactively)\n",
        "# user_age = input(\"Enter your age: \")\n",
        "# print(\"You entered:\", user_age)\n",
        "\n",
        "# 4. If‑Else Example\n",
        "if age >= 18:\n",
        "    print(\"You are an adult.\")\n",
        "else:\n",
        "    print(\"You are a minor.\")\n",
        "\n",
        "# 5. For‑Loop Example\n",
        "for i in range(5):\n",
        "    print(\"Count:\", i)\n",
        "\n",
        "# 6. While‑Loop Example\n",
        "count = 0\n",
        "while count < 3:\n",
        "    print(\"While count:\", count)\n",
        "    count += 1\n"
      ]
    }
  ]
}